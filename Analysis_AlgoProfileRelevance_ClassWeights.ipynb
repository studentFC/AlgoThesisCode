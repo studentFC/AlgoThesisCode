{
 "cells": [
  {
   "cell_type": "markdown",
   "metadata": {},
   "source": [
    "# Analysis_AlgoProfileRelevance_ClassWeights\n",
    "## Block 1: Importing libraries"
   ]
  },
  {
   "cell_type": "code",
   "execution_count": 1,
   "metadata": {},
   "outputs": [],
   "source": [
    "# Packages / libraries\n",
    "import pandas as pd\n",
    "import numpy as np\n",
    "from sklearn.model_selection import LeaveOneOut, train_test_split\n",
    "from sklearn.linear_model import LogisticRegression\n",
    "from sklearn.metrics import confusion_matrix, classification_report\n",
    "import statsmodels.api as sm\n",
    "import matplotlib.pyplot as plt\n",
    "import seaborn as sns"
   ]
  },
  {
   "cell_type": "markdown",
   "metadata": {},
   "source": [
    "## Block 2: Data loading"
   ]
  },
  {
   "cell_type": "code",
   "execution_count": 2,
   "metadata": {},
   "outputs": [
    {
     "data": {
      "text/html": [
       "<div>\n",
       "<style scoped>\n",
       "    .dataframe tbody tr th:only-of-type {\n",
       "        vertical-align: middle;\n",
       "    }\n",
       "\n",
       "    .dataframe tbody tr th {\n",
       "        vertical-align: top;\n",
       "    }\n",
       "\n",
       "    .dataframe thead th {\n",
       "        text-align: right;\n",
       "    }\n",
       "</style>\n",
       "<table border=\"1\" class=\"dataframe\">\n",
       "  <thead>\n",
       "    <tr style=\"text-align: right;\">\n",
       "      <th></th>\n",
       "      <th>index</th>\n",
       "      <th>algorithmization</th>\n",
       "      <th>algo_profile</th>\n",
       "    </tr>\n",
       "  </thead>\n",
       "  <tbody>\n",
       "    <tr>\n",
       "      <th>0</th>\n",
       "      <td>67</td>\n",
       "      <td>9</td>\n",
       "      <td>10</td>\n",
       "    </tr>\n",
       "    <tr>\n",
       "      <th>1</th>\n",
       "      <td>15</td>\n",
       "      <td>8</td>\n",
       "      <td>9</td>\n",
       "    </tr>\n",
       "    <tr>\n",
       "      <th>2</th>\n",
       "      <td>59</td>\n",
       "      <td>8</td>\n",
       "      <td>7</td>\n",
       "    </tr>\n",
       "    <tr>\n",
       "      <th>3</th>\n",
       "      <td>9</td>\n",
       "      <td>7</td>\n",
       "      <td>6</td>\n",
       "    </tr>\n",
       "    <tr>\n",
       "      <th>4</th>\n",
       "      <td>27</td>\n",
       "      <td>7</td>\n",
       "      <td>10</td>\n",
       "    </tr>\n",
       "    <tr>\n",
       "      <th>5</th>\n",
       "      <td>39</td>\n",
       "      <td>7</td>\n",
       "      <td>8</td>\n",
       "    </tr>\n",
       "    <tr>\n",
       "      <th>6</th>\n",
       "      <td>13</td>\n",
       "      <td>6</td>\n",
       "      <td>10</td>\n",
       "    </tr>\n",
       "    <tr>\n",
       "      <th>7</th>\n",
       "      <td>54</td>\n",
       "      <td>6</td>\n",
       "      <td>7</td>\n",
       "    </tr>\n",
       "    <tr>\n",
       "      <th>8</th>\n",
       "      <td>58</td>\n",
       "      <td>6</td>\n",
       "      <td>3</td>\n",
       "    </tr>\n",
       "    <tr>\n",
       "      <th>9</th>\n",
       "      <td>83</td>\n",
       "      <td>6</td>\n",
       "      <td>9</td>\n",
       "    </tr>\n",
       "  </tbody>\n",
       "</table>\n",
       "</div>"
      ],
      "text/plain": [
       "   index  algorithmization  algo_profile\n",
       "0     67                 9            10\n",
       "1     15                 8             9\n",
       "2     59                 8             7\n",
       "3      9                 7             6\n",
       "4     27                 7            10\n",
       "5     39                 7             8\n",
       "6     13                 6            10\n",
       "7     54                 6             7\n",
       "8     58                 6             3\n",
       "9     83                 6             9"
      ]
     },
     "execution_count": 2,
     "metadata": {},
     "output_type": "execute_result"
    }
   ],
   "source": [
    "# Load the data (file location to change according to the user)\n",
    "raw_data = pd.read_csv('C:\\\\Users\\\\filip\\\\Documents\\\\HSG\\\\Master\\\\Master Thesis\\\\Research\\\\Data for Python\\\\Data Analysis AlgoProfileRelevance.csv')\n",
    "\n",
    "# Run the first 10 rows\n",
    "raw_data.head(10)"
   ]
  },
  {
   "cell_type": "markdown",
   "metadata": {},
   "source": [
    "## Bock 3: Data cleaning"
   ]
  },
  {
   "cell_type": "code",
   "execution_count": 3,
   "metadata": {},
   "outputs": [
    {
     "name": "stdout",
     "output_type": "stream",
     "text": [
      "\n",
      "Treshold for algorithmic profile: 3.0\n"
     ]
    },
    {
     "data": {
      "text/html": [
       "<div>\n",
       "<style scoped>\n",
       "    .dataframe tbody tr th:only-of-type {\n",
       "        vertical-align: middle;\n",
       "    }\n",
       "\n",
       "    .dataframe tbody tr th {\n",
       "        vertical-align: top;\n",
       "    }\n",
       "\n",
       "    .dataframe thead th {\n",
       "        text-align: right;\n",
       "    }\n",
       "</style>\n",
       "<table border=\"1\" class=\"dataframe\">\n",
       "  <thead>\n",
       "    <tr style=\"text-align: right;\">\n",
       "      <th></th>\n",
       "      <th>algorithmization</th>\n",
       "      <th>algo_profile</th>\n",
       "    </tr>\n",
       "  </thead>\n",
       "  <tbody>\n",
       "    <tr>\n",
       "      <th>0</th>\n",
       "      <td>0.9</td>\n",
       "      <td>1</td>\n",
       "    </tr>\n",
       "    <tr>\n",
       "      <th>1</th>\n",
       "      <td>0.8</td>\n",
       "      <td>1</td>\n",
       "    </tr>\n",
       "    <tr>\n",
       "      <th>2</th>\n",
       "      <td>0.8</td>\n",
       "      <td>1</td>\n",
       "    </tr>\n",
       "    <tr>\n",
       "      <th>3</th>\n",
       "      <td>0.7</td>\n",
       "      <td>1</td>\n",
       "    </tr>\n",
       "    <tr>\n",
       "      <th>4</th>\n",
       "      <td>0.7</td>\n",
       "      <td>1</td>\n",
       "    </tr>\n",
       "    <tr>\n",
       "      <th>5</th>\n",
       "      <td>0.7</td>\n",
       "      <td>1</td>\n",
       "    </tr>\n",
       "    <tr>\n",
       "      <th>6</th>\n",
       "      <td>0.6</td>\n",
       "      <td>1</td>\n",
       "    </tr>\n",
       "    <tr>\n",
       "      <th>7</th>\n",
       "      <td>0.6</td>\n",
       "      <td>1</td>\n",
       "    </tr>\n",
       "    <tr>\n",
       "      <th>8</th>\n",
       "      <td>0.6</td>\n",
       "      <td>0</td>\n",
       "    </tr>\n",
       "    <tr>\n",
       "      <th>9</th>\n",
       "      <td>0.6</td>\n",
       "      <td>1</td>\n",
       "    </tr>\n",
       "  </tbody>\n",
       "</table>\n",
       "</div>"
      ],
      "text/plain": [
       "   algorithmization  algo_profile\n",
       "0               0.9             1\n",
       "1               0.8             1\n",
       "2               0.8             1\n",
       "3               0.7             1\n",
       "4               0.7             1\n",
       "5               0.7             1\n",
       "6               0.6             1\n",
       "7               0.6             1\n",
       "8               0.6             0\n",
       "9               0.6             1"
      ]
     },
     "execution_count": 3,
     "metadata": {},
     "output_type": "execute_result"
    }
   ],
   "source": [
    "# Create a copy\n",
    "data = raw_data.copy(deep=True)\n",
    "\n",
    "# Drop the index column\n",
    "data = data.drop(['index'], axis = 1)\n",
    "\n",
    "# Normalize the explanatory variable\n",
    "data['algorithmization'] = data['algorithmization'] / 10\n",
    "\n",
    "# Find a threshold using Leave-One-Out Cross-Validation\n",
    "loo = LeaveOneOut()\n",
    "thresholds = []\n",
    "for train_index, test_index in loo.split(data):\n",
    "    train_set = data.iloc[train_index]\n",
    "    test_set = data.iloc[test_index]\n",
    "    model = LogisticRegression().fit(train_set[['algorithmization']], train_set['algo_profile'])\n",
    "    predicted = model.predict(test_set[['algorithmization']])\n",
    "    thresholds.append(predicted[0])\n",
    "\n",
    "# Convert the explained variable into a binary variable\n",
    "threshold = np.median(thresholds)\n",
    "print(\"\\nTreshold for algorithmic profile:\", threshold)\n",
    "data['algo_profile'] = (data['algo_profile'] > threshold).astype(int)\n",
    "\n",
    "# Run the first 10 rows\n",
    "data.head(10)"
   ]
  },
  {
   "cell_type": "markdown",
   "metadata": {},
   "source": [
    "## Block 4: Model training"
   ]
  },
  {
   "cell_type": "code",
   "execution_count": 4,
   "metadata": {},
   "outputs": [
    {
     "name": "stdout",
     "output_type": "stream",
     "text": [
      "Train set:\n",
      "Quantity of y=0: 15\n",
      "Quantity of y=1: 26\n"
     ]
    }
   ],
   "source": [
    "# Split the data into a training set and a test set\n",
    "X_train, X_test, y_train, y_test = train_test_split(data[['algorithmization']], data['algo_profile'], test_size=0.2, random_state=42)\n",
    "\n",
    "# Add a constant term to the independent variable matrix for the logistic regression\n",
    "X_train_sm = sm.add_constant(X_train)\n",
    "\n",
    "# Check for balanced train set\n",
    "value_counts = y_train.value_counts()\n",
    "num_zeros = value_counts[0]\n",
    "num_ones = value_counts[1]\n",
    "print(\"Train set:\")\n",
    "print(\"Quantity of y=0:\", num_zeros)\n",
    "print(\"Quantity of y=1:\", num_ones)"
   ]
  },
  {
   "cell_type": "code",
   "execution_count": 5,
   "metadata": {},
   "outputs": [
    {
     "name": "stdout",
     "output_type": "stream",
     "text": [
      "Optimization terminated successfully.\n",
      "         Current function value: 0.481366\n",
      "         Iterations 6\n",
      "                           Logit Regression Results                           \n",
      "==============================================================================\n",
      "Dep. Variable:           algo_profile   No. Observations:                   41\n",
      "Model:                          Logit   Df Residuals:                       39\n",
      "Method:                           MLE   Df Model:                            1\n",
      "Date:                Fri, 16 Feb 2024   Pseudo R-squ.:                  0.2670\n",
      "Time:                        23:15:20   Log-Likelihood:                -19.736\n",
      "converged:                       True   LL-Null:                       -26.925\n",
      "Covariance Type:            nonrobust   LLR p-value:                 0.0001495\n",
      "====================================================================================\n",
      "                       coef    std err          z      P>|z|      [0.025      0.975]\n",
      "------------------------------------------------------------------------------------\n",
      "const               -1.6678      0.783     -2.131      0.033      -3.202      -0.134\n",
      "algorithmization     6.2239      1.985      3.135      0.002       2.333      10.115\n",
      "====================================================================================\n"
     ]
    }
   ],
   "source": [
    "# Get a balanced set by calculating class weights\n",
    "class_weights = len(y_train) / (2 * np.bincount(y_train))\n",
    "\n",
    "# Train the logistic regression model using statsmodels with class weights\n",
    "logit_model = sm.Logit(y_train, X_train_sm, weight=class_weights[y_train])\n",
    "result = logit_model.fit()\n",
    "\n",
    "# Display logistic regression results\n",
    "print(result.summary())"
   ]
  },
  {
   "cell_type": "markdown",
   "metadata": {},
   "source": [
    "## Block 5: Model evaluation"
   ]
  },
  {
   "cell_type": "code",
   "execution_count": 6,
   "metadata": {},
   "outputs": [
    {
     "name": "stdout",
     "output_type": "stream",
     "text": [
      "\n",
      "Training accuracy:  0.8292682926829268\n",
      "\n",
      "Confusion Matrix:\n",
      "[[10  5]\n",
      " [ 2 24]]\n",
      "\n",
      "Classification Report:\n",
      "              precision    recall  f1-score   support\n",
      "\n",
      "           0       0.83      0.67      0.74        15\n",
      "           1       0.83      0.92      0.87        26\n",
      "\n",
      "    accuracy                           0.83        41\n",
      "   macro avg       0.83      0.79      0.81        41\n",
      "weighted avg       0.83      0.83      0.82        41\n",
      "\n"
     ]
    }
   ],
   "source": [
    "# Get predicted probabilities and class predictions\n",
    "X_train_sm_test = sm.add_constant(X_train)\n",
    "y_pred_prob = result.predict(X_train_sm_test)\n",
    "y_pred_class = (y_pred_prob > 0.5).astype(int)\n",
    "\n",
    "# Training accuracy\n",
    "print(\"\\nTraining accuracy: \", (y_pred_class == y_train).mean())\n",
    "\n",
    "# Confusion matrix and classification report\n",
    "print(\"\\nConfusion Matrix:\")\n",
    "print(confusion_matrix(y_train, y_pred_class))\n",
    "\n",
    "print(\"\\nClassification Report:\")\n",
    "print(classification_report(y_train, y_pred_class))"
   ]
  },
  {
   "cell_type": "code",
   "execution_count": 7,
   "metadata": {},
   "outputs": [
    {
     "data": {
      "image/png": "[encoded data removed]",
      "text/plain": [
       "<Figure size 432x288 with 1 Axes>"
      ]
     },
     "metadata": {
      "needs_background": "light"
     },
     "output_type": "display_data"
    }
   ],
   "source": [
    "# Calculate and plot the confusion matrix\n",
    "cm = confusion_matrix(y_train, y_pred_class)\n",
    "sns.heatmap(cm, annot=True, fmt='d', cmap='Blues', cbar=False)\n",
    "plt.xlabel('Predicted')\n",
    "plt.ylabel('Actual')\n",
    "plt.title('Confusion Matrix')\n",
    "plt.show()"
   ]
  },
  {
   "cell_type": "markdown",
   "metadata": {},
   "source": [
    "## Block 6: Model visualization"
   ]
  },
  {
   "cell_type": "code",
   "execution_count": 8,
   "metadata": {},
   "outputs": [
    {
     "data": {
      "image/png": "[encoded data removed]",
      "text/plain": [
       "<Figure size 432x288 with 1 Axes>"
      ]
     },
     "metadata": {
      "needs_background": "light"
     },
     "output_type": "display_data"
    }
   ],
   "source": [
    "# Conditional probabilities representation\n",
    "\n",
    "# Create a scatter plot of the data points\n",
    "plt.scatter(X_train, y_train, color='blue', label='Actual Data Points')\n",
    "\n",
    "# Overlay the logistic regression curve\n",
    "X_range = np.linspace(X_train.min(), X_train.max(), 100)\n",
    "X_range_sm = sm.add_constant(X_range)\n",
    "y_probabilities = result.predict(X_range_sm)\n",
    "plt.plot(X_range, y_probabilities, color='red', label='Logistic Regression Curve')\n",
    "\n",
    "# Customize the plot\n",
    "plt.xlabel('Explanatory Variable')\n",
    "plt.ylabel('Probability of Algo Profile = 1')\n",
    "plt.title('Logistic Regression Curve and Data Points')\n",
    "plt.legend()\n",
    "\n",
    "# Show the plot\n",
    "plt.show()"
   ]
  },
  {
   "cell_type": "code",
   "execution_count": 9,
   "metadata": {},
   "outputs": [
    {
     "data": {
      "image/png": "[encoded data removed]",
      "text/plain": [
       "<Figure size 432x288 with 1 Axes>"
      ]
     },
     "metadata": {
      "needs_background": "light"
     },
     "output_type": "display_data"
    }
   ],
   "source": [
    "# Categorical representation\n",
    "\n",
    "# Create a scatter plot of the data points\n",
    "plt.scatter(X_train, y_train, color='blue', label='Actual Data Points')\n",
    "\n",
    "# Overlay the logistic regression curve\n",
    "X_range = np.linspace(X_train.min(), X_train.max(), 100)\n",
    "X_range_sm = sm.add_constant(X_range)\n",
    "y_probabilities = result.predict(X_range_sm)\n",
    "plt.plot(X_range, y_probabilities, color='red', label='Logistic Regression Curve')\n",
    "\n",
    "# Set the threshold for classification\n",
    "threshold = 0.5\n",
    "\n",
    "# Mark points based on the chosen threshold\n",
    "y_pred_class = (y_probabilities >= threshold).astype(int)\n",
    "plt.scatter(X_range[y_pred_class == 1], threshold * np.ones_like(X_range)[y_pred_class == 1], color='green', marker='o', label='Predicted Class 1')\n",
    "plt.scatter(X_range[y_pred_class == 0], threshold * np.ones_like(X_range)[y_pred_class == 0], color='orange', marker='o', label='Predicted Class 0')\n",
    "\n",
    "# Customize the plot\n",
    "plt.xlabel('Explanatory Variable')\n",
    "plt.ylabel('Probability of Algo Profile = 1')\n",
    "plt.title('Logistic Regression Curve and Data Points with Categorical Representation')\n",
    "plt.legend()\n",
    "\n",
    "# Show the plot\n",
    "plt.show()"
   ]
  },
  {
   "cell_type": "markdown",
   "metadata": {},
   "source": [
    "## Block 7: Model testing"
   ]
  },
  {
   "cell_type": "code",
   "execution_count": 10,
   "metadata": {},
   "outputs": [
    {
     "name": "stdout",
     "output_type": "stream",
     "text": [
      "Test set:\n",
      "Quantity of y=0: 4\n",
      "Quantity of y=1: 7\n"
     ]
    }
   ],
   "source": [
    "# Check for balanced test set\n",
    "value_counts_ = y_test.value_counts()\n",
    "num_zeros = value_counts_[0]\n",
    "num_ones = value_counts_[1]\n",
    "print(\"Test set:\")\n",
    "print(\"Quantity of y=0:\", num_zeros)\n",
    "print(\"Quantity of y=1:\", num_ones)"
   ]
  },
  {
   "cell_type": "code",
   "execution_count": 11,
   "metadata": {},
   "outputs": [
    {
     "name": "stdout",
     "output_type": "stream",
     "text": [
      "\n",
      "Accuracy (Test Set): 0.8181818181818182\n",
      "\n",
      "Confusion Matrix:\n",
      "[[3 1]\n",
      " [1 6]]\n",
      "\n",
      "Classification Report (Test Set):\n",
      "              precision    recall  f1-score   support\n",
      "\n",
      "           0       0.75      0.75      0.75         4\n",
      "           1       0.86      0.86      0.86         7\n",
      "\n",
      "    accuracy                           0.82        11\n",
      "   macro avg       0.80      0.80      0.80        11\n",
      "weighted avg       0.82      0.82      0.82        11\n",
      "\n"
     ]
    }
   ],
   "source": [
    "# Now, get predicted probabilities and class predictions for the test set\n",
    "X_test_sm = sm.add_constant(X_test)\n",
    "y_pred_prob_test = result.predict(X_test_sm)\n",
    "y_pred_class_test = (y_pred_prob_test > 0.5).astype(int)\n",
    "\n",
    "# Calculate accuracy for the test set\n",
    "accuracy_test = np.mean(y_test == y_pred_class_test)\n",
    "print(\"\\nAccuracy (Test Set):\", accuracy_test)\n",
    "\n",
    "# Confusion matrix and classification report\n",
    "print(\"\\nConfusion Matrix:\")\n",
    "print(confusion_matrix(y_test, y_pred_class_test))\n",
    "\n",
    "# Print classification report for the test set\n",
    "print(\"\\nClassification Report (Test Set):\")\n",
    "print(classification_report(y_test, y_pred_class_test))"
   ]
  },
  {
   "cell_type": "code",
   "execution_count": 12,
   "metadata": {},
   "outputs": [
    {
     "data": {
      "image/png": "[encoded data removed]",
      "text/plain": [
       "<Figure size 432x288 with 1 Axes>"
      ]
     },
     "metadata": {
      "needs_background": "light"
     },
     "output_type": "display_data"
    }
   ],
   "source": [
    "# Calculate and plot the confusion matrix\n",
    "cm_test = confusion_matrix(y_test, y_pred_class_test)\n",
    "sns.heatmap(cm_test, annot=True, fmt='d', cmap='Blues', cbar=False)\n",
    "plt.xlabel('Predicted')\n",
    "plt.ylabel('Actual')\n",
    "plt.title('Confusion Matrix (Test Set)')\n",
    "plt.show()"
   ]
  },
  {
   "cell_type": "code",
   "execution_count": null,
   "metadata": {},
   "outputs": [],
   "source": []
  }
 ],
 "metadata": {
  "kernelspec": {
   "display_name": "Python 3",
   "language": "python",
   "name": "python3"
  },
  "language_info": {
   "codemirror_mode": {
    "name": "ipython",
    "version": 3
   },
   "file_extension": ".py",
   "mimetype": "text/x-python",
   "name": "python",
   "nbconvert_exporter": "python",
   "pygments_lexer": "ipython3",
   "version": "3.8.3"
  }
 },
 "nbformat": 4,
 "nbformat_minor": 4
}
