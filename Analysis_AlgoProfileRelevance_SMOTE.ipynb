{
 "cells": [
  {
   "cell_type": "markdown",
   "metadata": {},
   "source": [
    "# Analysis_AlgoProfileRelevance_SMOTE\n",
    "## Block 1: Importing libraries"
   ]
  },
  {
   "cell_type": "code",
   "execution_count": 1,
   "metadata": {},
   "outputs": [],
   "source": [
    "# Packages / libraries\n",
    "import pandas as pd\n",
    "import numpy as np\n",
    "from sklearn.model_selection import LeaveOneOut, train_test_split\n",
    "from sklearn.linear_model import LogisticRegression\n",
    "from sklearn.metrics import confusion_matrix, classification_report\n",
    "import statsmodels.api as sm\n",
    "import matplotlib.pyplot as plt\n",
    "import seaborn as sns"
   ]
  },
  {
   "cell_type": "markdown",
   "metadata": {},
   "source": [
    "## Block 2: Data loading"
   ]
  },
  {
   "cell_type": "code",
   "execution_count": 2,
   "metadata": {},
   "outputs": [
    {
     "data": {
      "text/html": [
       "<div>\n",
       "<style scoped>\n",
       "    .dataframe tbody tr th:only-of-type {\n",
       "        vertical-align: middle;\n",
       "    }\n",
       "\n",
       "    .dataframe tbody tr th {\n",
       "        vertical-align: top;\n",
       "    }\n",
       "\n",
       "    .dataframe thead th {\n",
       "        text-align: right;\n",
       "    }\n",
       "</style>\n",
       "<table border=\"1\" class=\"dataframe\">\n",
       "  <thead>\n",
       "    <tr style=\"text-align: right;\">\n",
       "      <th></th>\n",
       "      <th>index</th>\n",
       "      <th>algorithmization</th>\n",
       "      <th>algo_profile</th>\n",
       "    </tr>\n",
       "  </thead>\n",
       "  <tbody>\n",
       "    <tr>\n",
       "      <th>0</th>\n",
       "      <td>67</td>\n",
       "      <td>9</td>\n",
       "      <td>10</td>\n",
       "    </tr>\n",
       "    <tr>\n",
       "      <th>1</th>\n",
       "      <td>15</td>\n",
       "      <td>8</td>\n",
       "      <td>9</td>\n",
       "    </tr>\n",
       "    <tr>\n",
       "      <th>2</th>\n",
       "      <td>59</td>\n",
       "      <td>8</td>\n",
       "      <td>7</td>\n",
       "    </tr>\n",
       "    <tr>\n",
       "      <th>3</th>\n",
       "      <td>9</td>\n",
       "      <td>7</td>\n",
       "      <td>6</td>\n",
       "    </tr>\n",
       "    <tr>\n",
       "      <th>4</th>\n",
       "      <td>27</td>\n",
       "      <td>7</td>\n",
       "      <td>10</td>\n",
       "    </tr>\n",
       "    <tr>\n",
       "      <th>5</th>\n",
       "      <td>39</td>\n",
       "      <td>7</td>\n",
       "      <td>8</td>\n",
       "    </tr>\n",
       "    <tr>\n",
       "      <th>6</th>\n",
       "      <td>13</td>\n",
       "      <td>6</td>\n",
       "      <td>10</td>\n",
       "    </tr>\n",
       "    <tr>\n",
       "      <th>7</th>\n",
       "      <td>54</td>\n",
       "      <td>6</td>\n",
       "      <td>7</td>\n",
       "    </tr>\n",
       "    <tr>\n",
       "      <th>8</th>\n",
       "      <td>58</td>\n",
       "      <td>6</td>\n",
       "      <td>3</td>\n",
       "    </tr>\n",
       "    <tr>\n",
       "      <th>9</th>\n",
       "      <td>83</td>\n",
       "      <td>6</td>\n",
       "      <td>9</td>\n",
       "    </tr>\n",
       "  </tbody>\n",
       "</table>\n",
       "</div>"
      ],
      "text/plain": [
       "   index  algorithmization  algo_profile\n",
       "0     67                 9            10\n",
       "1     15                 8             9\n",
       "2     59                 8             7\n",
       "3      9                 7             6\n",
       "4     27                 7            10\n",
       "5     39                 7             8\n",
       "6     13                 6            10\n",
       "7     54                 6             7\n",
       "8     58                 6             3\n",
       "9     83                 6             9"
      ]
     },
     "execution_count": 2,
     "metadata": {},
     "output_type": "execute_result"
    }
   ],
   "source": [
    "# Load the data (file location to change according to the user)\n",
    "raw_data = pd.read_csv('C:\\\\Users\\\\filip\\\\Documents\\\\HSG\\\\Master\\\\Master Thesis\\\\Research\\\\Data for Python\\\\Data Analysis AlgoProfileRelevance.csv')\n",
    "\n",
    "# Run the first 10 rows\n",
    "raw_data.head(10)"
   ]
  },
  {
   "cell_type": "markdown",
   "metadata": {},
   "source": [
    "## Bock 3: Data cleaning"
   ]
  },
  {
   "cell_type": "code",
   "execution_count": 3,
   "metadata": {},
   "outputs": [
    {
     "name": "stdout",
     "output_type": "stream",
     "text": [
      "\n",
      "Treshold for algorithmic profile: 3.0\n"
     ]
    },
    {
     "data": {
      "text/html": [
       "<div>\n",
       "<style scoped>\n",
       "    .dataframe tbody tr th:only-of-type {\n",
       "        vertical-align: middle;\n",
       "    }\n",
       "\n",
       "    .dataframe tbody tr th {\n",
       "        vertical-align: top;\n",
       "    }\n",
       "\n",
       "    .dataframe thead th {\n",
       "        text-align: right;\n",
       "    }\n",
       "</style>\n",
       "<table border=\"1\" class=\"dataframe\">\n",
       "  <thead>\n",
       "    <tr style=\"text-align: right;\">\n",
       "      <th></th>\n",
       "      <th>algorithmization</th>\n",
       "      <th>algo_profile</th>\n",
       "    </tr>\n",
       "  </thead>\n",
       "  <tbody>\n",
       "    <tr>\n",
       "      <th>0</th>\n",
       "      <td>0.9</td>\n",
       "      <td>1</td>\n",
       "    </tr>\n",
       "    <tr>\n",
       "      <th>1</th>\n",
       "      <td>0.8</td>\n",
       "      <td>1</td>\n",
       "    </tr>\n",
       "    <tr>\n",
       "      <th>2</th>\n",
       "      <td>0.8</td>\n",
       "      <td>1</td>\n",
       "    </tr>\n",
       "    <tr>\n",
       "      <th>3</th>\n",
       "      <td>0.7</td>\n",
       "      <td>1</td>\n",
       "    </tr>\n",
       "    <tr>\n",
       "      <th>4</th>\n",
       "      <td>0.7</td>\n",
       "      <td>1</td>\n",
       "    </tr>\n",
       "    <tr>\n",
       "      <th>5</th>\n",
       "      <td>0.7</td>\n",
       "      <td>1</td>\n",
       "    </tr>\n",
       "    <tr>\n",
       "      <th>6</th>\n",
       "      <td>0.6</td>\n",
       "      <td>1</td>\n",
       "    </tr>\n",
       "    <tr>\n",
       "      <th>7</th>\n",
       "      <td>0.6</td>\n",
       "      <td>1</td>\n",
       "    </tr>\n",
       "    <tr>\n",
       "      <th>8</th>\n",
       "      <td>0.6</td>\n",
       "      <td>0</td>\n",
       "    </tr>\n",
       "    <tr>\n",
       "      <th>9</th>\n",
       "      <td>0.6</td>\n",
       "      <td>1</td>\n",
       "    </tr>\n",
       "  </tbody>\n",
       "</table>\n",
       "</div>"
      ],
      "text/plain": [
       "   algorithmization  algo_profile\n",
       "0               0.9             1\n",
       "1               0.8             1\n",
       "2               0.8             1\n",
       "3               0.7             1\n",
       "4               0.7             1\n",
       "5               0.7             1\n",
       "6               0.6             1\n",
       "7               0.6             1\n",
       "8               0.6             0\n",
       "9               0.6             1"
      ]
     },
     "execution_count": 3,
     "metadata": {},
     "output_type": "execute_result"
    }
   ],
   "source": [
    "# Create a copy\n",
    "data = raw_data.copy(deep=True)\n",
    "\n",
    "# Drop the index column\n",
    "data = data.drop(['index'], axis = 1)\n",
    "\n",
    "# Normalize the explanatory variable\n",
    "data['algorithmization'] = data['algorithmization'] / 10\n",
    "\n",
    "# Find a threshold using Leave-One-Out Cross-Validation\n",
    "loo = LeaveOneOut()\n",
    "thresholds = []\n",
    "for train_index, test_index in loo.split(data):\n",
    "    train_set = data.iloc[train_index]\n",
    "    test_set = data.iloc[test_index]\n",
    "    model = LogisticRegression().fit(train_set[['algorithmization']], train_set['algo_profile'])\n",
    "    predicted = model.predict(test_set[['algorithmization']])\n",
    "    thresholds.append(predicted[0])\n",
    "\n",
    "# Convert the explained variable into a binary variable\n",
    "threshold = np.median(thresholds)\n",
    "print(\"\\nTreshold for algorithmic profile:\", threshold)\n",
    "data['algo_profile'] = (data['algo_profile'] > threshold).astype(int)\n",
    "\n",
    "# Run the first 10 rows\n",
    "data.head(10)"
   ]
  },
  {
   "cell_type": "markdown",
   "metadata": {},
   "source": [
    "## Block 4: Model training"
   ]
  },
  {
   "cell_type": "code",
   "execution_count": 4,
   "metadata": {},
   "outputs": [],
   "source": [
    "# Split the data into a training set and a test set\n",
    "X_train, X_test, y_train, y_test = train_test_split(data[['algorithmization']], data['algo_profile'], test_size=0.2, random_state=42)"
   ]
  },
  {
   "cell_type": "code",
   "execution_count": 5,
   "metadata": {},
   "outputs": [
    {
     "name": "stdout",
     "output_type": "stream",
     "text": [
      "Before Counter({1: 26, 0: 15})\n",
      "After Counter({0: 26, 1: 26})\n"
     ]
    }
   ],
   "source": [
    "# SMOTE Algorithm\n",
    "from collections import Counter\n",
    "from imblearn.over_sampling import SMOTE\n",
    "\n",
    "counter = Counter(y_train)\n",
    "print('Before', counter)\n",
    "\n",
    "# Generate synthetic samples using SMOTE\n",
    "smt = SMOTE()\n",
    "X_train_sm, y_train_sm = smt.fit_resample(X_train, y_train)\n",
    "\n",
    "counter = Counter(y_train_sm)\n",
    "print('After', counter)"
   ]
  },
  {
   "cell_type": "code",
   "execution_count": 6,
   "metadata": {},
   "outputs": [
    {
     "data": {
      "text/html": [
       "<style>#sk-container-id-1 {color: black;}#sk-container-id-1 pre{padding: 0;}#sk-container-id-1 div.sk-toggleable {background-color: white;}#sk-container-id-1 label.sk-toggleable__label {cursor: pointer;display: block;width: 100%;margin-bottom: 0;padding: 0.3em;box-sizing: border-box;text-align: center;}#sk-container-id-1 label.sk-toggleable__label-arrow:before {content: \"▸\";float: left;margin-right: 0.25em;color: #696969;}#sk-container-id-1 label.sk-toggleable__label-arrow:hover:before {color: black;}#sk-container-id-1 div.sk-estimator:hover label.sk-toggleable__label-arrow:before {color: black;}#sk-container-id-1 div.sk-toggleable__content {max-height: 0;max-width: 0;overflow: hidden;text-align: left;background-color: #f0f8ff;}#sk-container-id-1 div.sk-toggleable__content pre {margin: 0.2em;color: black;border-radius: 0.25em;background-color: #f0f8ff;}#sk-container-id-1 input.sk-toggleable__control:checked~div.sk-toggleable__content {max-height: 200px;max-width: 100%;overflow: auto;}#sk-container-id-1 input.sk-toggleable__control:checked~label.sk-toggleable__label-arrow:before {content: \"▾\";}#sk-container-id-1 div.sk-estimator input.sk-toggleable__control:checked~label.sk-toggleable__label {background-color: #d4ebff;}#sk-container-id-1 div.sk-label input.sk-toggleable__control:checked~label.sk-toggleable__label {background-color: #d4ebff;}#sk-container-id-1 input.sk-hidden--visually {border: 0;clip: rect(1px 1px 1px 1px);clip: rect(1px, 1px, 1px, 1px);height: 1px;margin: -1px;overflow: hidden;padding: 0;position: absolute;width: 1px;}#sk-container-id-1 div.sk-estimator {font-family: monospace;background-color: #f0f8ff;border: 1px dotted black;border-radius: 0.25em;box-sizing: border-box;margin-bottom: 0.5em;}#sk-container-id-1 div.sk-estimator:hover {background-color: #d4ebff;}#sk-container-id-1 div.sk-parallel-item::after {content: \"\";width: 100%;border-bottom: 1px solid gray;flex-grow: 1;}#sk-container-id-1 div.sk-label:hover label.sk-toggleable__label {background-color: #d4ebff;}#sk-container-id-1 div.sk-serial::before {content: \"\";position: absolute;border-left: 1px solid gray;box-sizing: border-box;top: 0;bottom: 0;left: 50%;z-index: 0;}#sk-container-id-1 div.sk-serial {display: flex;flex-direction: column;align-items: center;background-color: white;padding-right: 0.2em;padding-left: 0.2em;position: relative;}#sk-container-id-1 div.sk-item {position: relative;z-index: 1;}#sk-container-id-1 div.sk-parallel {display: flex;align-items: stretch;justify-content: center;background-color: white;position: relative;}#sk-container-id-1 div.sk-item::before, #sk-container-id-1 div.sk-parallel-item::before {content: \"\";position: absolute;border-left: 1px solid gray;box-sizing: border-box;top: 0;bottom: 0;left: 50%;z-index: -1;}#sk-container-id-1 div.sk-parallel-item {display: flex;flex-direction: column;z-index: 1;position: relative;background-color: white;}#sk-container-id-1 div.sk-parallel-item:first-child::after {align-self: flex-end;width: 50%;}#sk-container-id-1 div.sk-parallel-item:last-child::after {align-self: flex-start;width: 50%;}#sk-container-id-1 div.sk-parallel-item:only-child::after {width: 0;}#sk-container-id-1 div.sk-dashed-wrapped {border: 1px dashed gray;margin: 0 0.4em 0.5em 0.4em;box-sizing: border-box;padding-bottom: 0.4em;background-color: white;}#sk-container-id-1 div.sk-label label {font-family: monospace;font-weight: bold;display: inline-block;line-height: 1.2em;}#sk-container-id-1 div.sk-label-container {text-align: center;}#sk-container-id-1 div.sk-container {/* jupyter's `normalize.less` sets `[hidden] { display: none; }` but bootstrap.min.css set `[hidden] { display: none !important; }` so we also need the `!important` here to be able to override the default hidden behavior on the sphinx rendered scikit-learn.org. See: https://github.com/scikit-learn/scikit-learn/issues/21755 */display: inline-block !important;position: relative;}#sk-container-id-1 div.sk-text-repr-fallback {display: none;}</style><div id=\"sk-container-id-1\" class=\"sk-top-container\"><div class=\"sk-text-repr-fallback\"><pre>LogisticRegression()</pre><b>In a Jupyter environment, please rerun this cell to show the HTML representation or trust the notebook. <br />On GitHub, the HTML representation is unable to render, please try loading this page with nbviewer.org.</b></div><div class=\"sk-container\" hidden><div class=\"sk-item\"><div class=\"sk-estimator sk-toggleable\"><input class=\"sk-toggleable__control sk-hidden--visually\" id=\"sk-estimator-id-1\" type=\"checkbox\" checked><label for=\"sk-estimator-id-1\" class=\"sk-toggleable__label sk-toggleable__label-arrow\">LogisticRegression</label><div class=\"sk-toggleable__content\"><pre>LogisticRegression()</pre></div></div></div></div></div>"
      ],
      "text/plain": [
       "LogisticRegression()"
      ]
     },
     "execution_count": 6,
     "metadata": {},
     "output_type": "execute_result"
    }
   ],
   "source": [
    "# Train the logistic regression model on the synthetic data\n",
    "model = LogisticRegression()\n",
    "model.fit(X_train_sm, y_train_sm)"
   ]
  },
  {
   "cell_type": "markdown",
   "metadata": {},
   "source": [
    "## Block 5: Model evaluation"
   ]
  },
  {
   "cell_type": "code",
   "execution_count": 7,
   "metadata": {},
   "outputs": [
    {
     "name": "stdout",
     "output_type": "stream",
     "text": [
      "\n",
      "Training accuracy on synthetic data:  0.8269230769230769\n",
      "\n",
      "Confusion matrix on synthetic data:\n",
      "[[21  5]\n",
      " [ 4 22]]\n",
      "\n",
      "Classification report on synthetic data:\n",
      "              precision    recall  f1-score   support\n",
      "\n",
      "           0       0.84      0.81      0.82        26\n",
      "           1       0.81      0.85      0.83        26\n",
      "\n",
      "    accuracy                           0.83        52\n",
      "   macro avg       0.83      0.83      0.83        52\n",
      "weighted avg       0.83      0.83      0.83        52\n",
      "\n"
     ]
    }
   ],
   "source": [
    "# Predict class labels for samples in X\n",
    "y_pred_sm = model.predict(X_train_sm)\n",
    "\n",
    "# Training accuracy on synthetic data\n",
    "print(\"\\nTraining accuracy on synthetic data: \", model.score(X_train_sm, y_train_sm))\n",
    "\n",
    "# Confusion matrix on synthetic data\n",
    "print(\"\\nConfusion matrix on synthetic data:\")\n",
    "print(confusion_matrix(y_train_sm, y_pred_sm))\n",
    "\n",
    "# Classification report on synthetic data\n",
    "print(\"\\nClassification report on synthetic data:\")\n",
    "print(classification_report(y_train_sm, y_pred_sm))"
   ]
  },
  {
   "cell_type": "code",
   "execution_count": 8,
   "metadata": {},
   "outputs": [
    {
     "data": {
      "image/png": "[encoded data removed]",
      "text/plain": [
       "<Figure size 432x288 with 1 Axes>"
      ]
     },
     "metadata": {
      "needs_background": "light"
     },
     "output_type": "display_data"
    }
   ],
   "source": [
    "# Calculate and plot the confusion matrix\n",
    "cm = confusion_matrix(y_train_sm, y_pred_sm)\n",
    "sns.heatmap(cm, annot=True, fmt='d', cmap='Blues', cbar=False)\n",
    "plt.xlabel('Predicted')\n",
    "plt.ylabel('Actual')\n",
    "plt.title('Confusion Matrix')\n",
    "plt.show()"
   ]
  },
  {
   "cell_type": "code",
   "execution_count": 9,
   "metadata": {},
   "outputs": [
    {
     "name": "stdout",
     "output_type": "stream",
     "text": [
      "    algorithmization  algo_profile\n",
      "8                0.6             0\n",
      "26               0.4             1\n",
      "6                0.6             1\n",
      "34               0.3             1\n",
      "4                0.7             1\n",
      "37               0.2             1\n",
      "24               0.5             0\n",
      "44               0.0             0\n",
      "33               0.3             0\n",
      "49               0.0             0\n",
      "15               0.5             1\n",
      "9                0.6             1\n",
      "16               0.5             1\n",
      "30               0.4             1\n",
      "36               0.2             0\n",
      "25               0.5             1\n",
      "11               0.6             1\n",
      "0                0.9             1\n",
      "46               0.0             0\n",
      "27               0.4             1\n",
      "31               0.4             1\n",
      "39               0.1             0\n",
      "29               0.4             1\n",
      "45               0.0             0\n",
      "1                0.8             1\n",
      "21               0.5             1\n",
      "2                0.8             1\n",
      "40               0.1             0\n",
      "35               0.3             1\n",
      "23               0.5             1\n",
      "48               0.0             1\n",
      "10               0.6             0\n",
      "22               0.5             1\n",
      "18               0.5             1\n",
      "51               0.0             0\n",
      "20               0.5             1\n",
      "7                0.6             1\n",
      "42               0.1             0\n",
      "14               0.5             0\n",
      "28               0.4             1\n",
      "38               0.2             0\n"
     ]
    }
   ],
   "source": [
    "# Concatenate X_train and y_train horizontally\n",
    "result_table = pd.concat([X_train, y_train], axis=1)\n",
    "\n",
    "# Display the result table (original training set)\n",
    "print(result_table)"
   ]
  },
  {
   "cell_type": "code",
   "execution_count": 10,
   "metadata": {},
   "outputs": [
    {
     "name": "stdout",
     "output_type": "stream",
     "text": [
      "    algorithmization  algo_profile\n",
      "0           0.600000             0\n",
      "1           0.400000             1\n",
      "2           0.600000             1\n",
      "3           0.300000             1\n",
      "4           0.700000             1\n",
      "5           0.200000             1\n",
      "6           0.500000             0\n",
      "7           0.000000             0\n",
      "8           0.300000             0\n",
      "9           0.000000             0\n",
      "10          0.500000             1\n",
      "11          0.600000             1\n",
      "12          0.500000             1\n",
      "13          0.400000             1\n",
      "14          0.200000             0\n",
      "15          0.500000             1\n",
      "16          0.600000             1\n",
      "17          0.900000             1\n",
      "18          0.000000             0\n",
      "19          0.400000             1\n",
      "20          0.400000             1\n",
      "21          0.100000             0\n",
      "22          0.400000             1\n",
      "23          0.000000             0\n",
      "24          0.800000             1\n",
      "25          0.500000             1\n",
      "26          0.800000             1\n",
      "27          0.100000             0\n",
      "28          0.300000             1\n",
      "29          0.500000             1\n",
      "30          0.000000             1\n",
      "31          0.600000             0\n",
      "32          0.500000             1\n",
      "33          0.500000             1\n",
      "34          0.000000             0\n",
      "35          0.500000             1\n",
      "36          0.600000             1\n",
      "37          0.100000             0\n",
      "38          0.500000             0\n",
      "39          0.400000             1\n",
      "40          0.200000             0\n",
      "41          0.287533             0\n",
      "42          0.000000             0\n",
      "43          0.221211             0\n",
      "44          0.042465             0\n",
      "45          0.200000             0\n",
      "46          0.100000             0\n",
      "47          0.404878             0\n",
      "48          0.000000             0\n",
      "49          0.125120             0\n",
      "50          0.000000             0\n",
      "51          0.107021             0\n"
     ]
    }
   ],
   "source": [
    "# Concatenate X_train_sm and y_train_sm horizontally\n",
    "result_table_sm = pd.concat([X_train_sm, y_train_sm], axis=1)\n",
    "\n",
    "# Display the result table (synthetic data included)\n",
    "print(result_table_sm)"
   ]
  },
  {
   "cell_type": "code",
   "execution_count": 11,
   "metadata": {},
   "outputs": [
    {
     "name": "stdout",
     "output_type": "stream",
     "text": [
      "    algorithmization  algo_profile\n",
      "0                0.6             0\n",
      "1                0.4             1\n",
      "2                0.6             1\n",
      "3                0.3             1\n",
      "4                0.7             1\n",
      "5                0.2             1\n",
      "6                0.5             0\n",
      "7                0.0             0\n",
      "8                0.3             0\n",
      "9                0.0             0\n",
      "10               0.5             1\n",
      "11               0.6             1\n",
      "12               0.5             1\n",
      "13               0.4             1\n",
      "14               0.2             0\n",
      "15               0.5             1\n",
      "16               0.6             1\n",
      "17               0.9             1\n",
      "18               0.0             0\n",
      "19               0.4             1\n",
      "20               0.4             1\n",
      "21               0.1             0\n",
      "22               0.4             1\n",
      "23               0.0             0\n",
      "24               0.8             1\n",
      "25               0.5             1\n",
      "26               0.8             1\n",
      "27               0.1             0\n",
      "28               0.3             1\n",
      "29               0.5             1\n",
      "30               0.0             1\n",
      "31               0.6             0\n",
      "32               0.5             1\n",
      "33               0.5             1\n",
      "34               0.0             0\n",
      "35               0.5             1\n",
      "36               0.6             1\n",
      "37               0.1             0\n",
      "38               0.5             0\n",
      "39               0.4             1\n",
      "40               0.2             0\n"
     ]
    }
   ],
   "source": [
    "# Assuming result_table_sm is the DataFrame obtained from concatenation\n",
    "result_table_sm_cleaned = result_table_sm.drop(index=range(41, 52))\n",
    "\n",
    "# Display the modified result table (synthetic data removed)\n",
    "print(result_table_sm_cleaned)"
   ]
  },
  {
   "cell_type": "code",
   "execution_count": 12,
   "metadata": {},
   "outputs": [
    {
     "name": "stdout",
     "output_type": "stream",
     "text": [
      "New Explanatory Variable:\n",
      "    algorithmization\n",
      "0                0.6\n",
      "1                0.4\n",
      "2                0.6\n",
      "3                0.3\n",
      "4                0.7\n",
      "5                0.2\n",
      "6                0.5\n",
      "7                0.0\n",
      "8                0.3\n",
      "9                0.0\n",
      "10               0.5\n",
      "11               0.6\n",
      "12               0.5\n",
      "13               0.4\n",
      "14               0.2\n",
      "15               0.5\n",
      "16               0.6\n",
      "17               0.9\n",
      "18               0.0\n",
      "19               0.4\n",
      "20               0.4\n",
      "21               0.1\n",
      "22               0.4\n",
      "23               0.0\n",
      "24               0.8\n",
      "25               0.5\n",
      "26               0.8\n",
      "27               0.1\n",
      "28               0.3\n",
      "29               0.5\n",
      "30               0.0\n",
      "31               0.6\n",
      "32               0.5\n",
      "33               0.5\n",
      "34               0.0\n",
      "35               0.5\n",
      "36               0.6\n",
      "37               0.1\n",
      "38               0.5\n",
      "39               0.4\n",
      "40               0.2\n",
      "\n",
      "New Explained Variable:\n",
      "0     0\n",
      "1     1\n",
      "2     1\n",
      "3     1\n",
      "4     1\n",
      "5     1\n",
      "6     0\n",
      "7     0\n",
      "8     0\n",
      "9     0\n",
      "10    1\n",
      "11    1\n",
      "12    1\n",
      "13    1\n",
      "14    0\n",
      "15    1\n",
      "16    1\n",
      "17    1\n",
      "18    0\n",
      "19    1\n",
      "20    1\n",
      "21    0\n",
      "22    1\n",
      "23    0\n",
      "24    1\n",
      "25    1\n",
      "26    1\n",
      "27    0\n",
      "28    1\n",
      "29    1\n",
      "30    1\n",
      "31    0\n",
      "32    1\n",
      "33    1\n",
      "34    0\n",
      "35    1\n",
      "36    1\n",
      "37    0\n",
      "38    0\n",
      "39    1\n",
      "40    0\n",
      "Name: algo_profile, dtype: int32\n"
     ]
    }
   ],
   "source": [
    "# Assuming result_table is the modified DataFrame\n",
    "new_explanatory_variable = result_table_sm_cleaned.iloc[:, :-1]  # Exclude the last column\n",
    "new_explained_variable = result_table_sm_cleaned.iloc[:, -1]    # Last column\n",
    "\n",
    "# Display the new explanatory variable, without the synthetic data \n",
    "print(\"New Explanatory Variable:\")\n",
    "print(new_explanatory_variable)\n",
    "\n",
    "# Display the new explained variable, without the synthetic data\n",
    "print(\"\\nNew Explained Variable:\")\n",
    "print(new_explained_variable)"
   ]
  },
  {
   "cell_type": "code",
   "execution_count": 13,
   "metadata": {},
   "outputs": [
    {
     "name": "stdout",
     "output_type": "stream",
     "text": [
      "\n",
      "Training accuracy on synthetic data:  0.8048780487804879\n"
     ]
    }
   ],
   "source": [
    "# Training accuracy on synthetic data\n",
    "print(\"\\nTraining accuracy on synthetic data: \", model.score(new_explanatory_variable, new_explained_variable))"
   ]
  },
  {
   "cell_type": "code",
   "execution_count": 14,
   "metadata": {},
   "outputs": [
    {
     "name": "stdout",
     "output_type": "stream",
     "text": [
      "\n",
      "Confusion matrix without synthetic data:\n",
      "[[11  4]\n",
      " [ 4 22]]\n"
     ]
    }
   ],
   "source": [
    "# Assuming y_pred_sm is the predictions on all instances\n",
    "# Get the indices of the synthetic samples\n",
    "synthetic_indices = np.arange(41, 52)\n",
    "\n",
    "# Keep only the predictions for non-synthetic samples\n",
    "y_pred_without_synthetic = np.delete(y_pred_sm, synthetic_indices)\n",
    "\n",
    "# Confusion matrix without synthetic data\n",
    "print(\"\\nConfusion matrix without synthetic data:\")\n",
    "print(confusion_matrix(new_explained_variable, y_pred_without_synthetic))"
   ]
  },
  {
   "cell_type": "code",
   "execution_count": 15,
   "metadata": {
    "scrolled": true
   },
   "outputs": [
    {
     "name": "stdout",
     "output_type": "stream",
     "text": [
      "\n",
      "Classification report without synthetic data:\n",
      "              precision    recall  f1-score   support\n",
      "\n",
      "           0       0.73      0.73      0.73        15\n",
      "           1       0.85      0.85      0.85        26\n",
      "\n",
      "    accuracy                           0.80        41\n",
      "   macro avg       0.79      0.79      0.79        41\n",
      "weighted avg       0.80      0.80      0.80        41\n",
      "\n"
     ]
    }
   ],
   "source": [
    "# Classification report without synthetic data\n",
    "print(\"\\nClassification report without synthetic data:\")\n",
    "print(classification_report(new_explained_variable, y_pred_without_synthetic))"
   ]
  },
  {
   "cell_type": "code",
   "execution_count": 16,
   "metadata": {},
   "outputs": [
    {
     "data": {
      "image/png": "[encoded data removed]",
      "text/plain": [
       "<Figure size 432x288 with 1 Axes>"
      ]
     },
     "metadata": {
      "needs_background": "light"
     },
     "output_type": "display_data"
    }
   ],
   "source": [
    "# Calculate and plot the confusion matrix\n",
    "cm = confusion_matrix(new_explained_variable, y_pred_without_synthetic)\n",
    "sns.heatmap(cm, annot=True, fmt='d', cmap='Blues', cbar=False)\n",
    "plt.xlabel('Predicted')\n",
    "plt.ylabel('Actual')\n",
    "plt.title('Confusion Matrix')\n",
    "plt.show()"
   ]
  },
  {
   "cell_type": "markdown",
   "metadata": {},
   "source": [
    "## Block 6: Model testing"
   ]
  },
  {
   "cell_type": "code",
   "execution_count": 17,
   "metadata": {},
   "outputs": [
    {
     "name": "stdout",
     "output_type": "stream",
     "text": [
      "Test set:\n",
      "Quantity of y=0: 4\n",
      "Quantity of y=1: 7\n"
     ]
    }
   ],
   "source": [
    "# Check for balanced test set\n",
    "value_counts_ = y_test.value_counts()\n",
    "num_zeros = value_counts_[0]\n",
    "num_ones = value_counts_[1]\n",
    "print(\"Test set:\")\n",
    "print(\"Quantity of y=0:\", num_zeros)\n",
    "print(\"Quantity of y=1:\", num_ones)"
   ]
  },
  {
   "cell_type": "code",
   "execution_count": 18,
   "metadata": {},
   "outputs": [
    {
     "name": "stdout",
     "output_type": "stream",
     "text": [
      "\n",
      "Test accuracy:  0.7272727272727273\n",
      "\n",
      "Confusion matrix on test data:\n",
      "[[3 1]\n",
      " [2 5]]\n",
      "\n",
      "Classification report on test data:\n",
      "              precision    recall  f1-score   support\n",
      "\n",
      "           0       0.60      0.75      0.67         4\n",
      "           1       0.83      0.71      0.77         7\n",
      "\n",
      "    accuracy                           0.73        11\n",
      "   macro avg       0.72      0.73      0.72        11\n",
      "weighted avg       0.75      0.73      0.73        11\n",
      "\n"
     ]
    }
   ],
   "source": [
    "# Predict class labels for samples in X_test\n",
    "y_pred_test = model.predict(X_test)\n",
    "\n",
    "# Test accuracy\n",
    "test_accuracy = model.score(X_test, y_test)\n",
    "print(\"\\nTest accuracy: \", test_accuracy)\n",
    "\n",
    "# Confusion matrix on test data\n",
    "print(\"\\nConfusion matrix on test data:\")\n",
    "print(confusion_matrix(y_test, y_pred_test))\n",
    "\n",
    "# Classification report on test data\n",
    "print(\"\\nClassification report on test data:\")\n",
    "print(classification_report(y_test, y_pred_test))"
   ]
  },
  {
   "cell_type": "code",
   "execution_count": 19,
   "metadata": {},
   "outputs": [
    {
     "data": {
      "image/png": "[encoded data removed]",
      "text/plain": [
       "<Figure size 432x288 with 1 Axes>"
      ]
     },
     "metadata": {
      "needs_background": "light"
     },
     "output_type": "display_data"
    }
   ],
   "source": [
    "# Calculate and plot the confusion matrix\n",
    "cm_test = confusion_matrix(y_test, y_pred_test)\n",
    "sns.heatmap(cm_test, annot=True, fmt='d', cmap='Blues', cbar=False)\n",
    "plt.xlabel('Predicted')\n",
    "plt.ylabel('Actual')\n",
    "plt.title('Confusion Matrix (Test Set)')\n",
    "plt.show()"
   ]
  },
  {
   "cell_type": "markdown",
   "metadata": {},
   "source": [
    "## Block 7: Significance check"
   ]
  },
  {
   "cell_type": "code",
   "execution_count": 20,
   "metadata": {},
   "outputs": [
    {
     "name": "stdout",
     "output_type": "stream",
     "text": [
      "Optimization terminated successfully.\n",
      "         Current function value: 0.450910\n",
      "         Iterations 6\n",
      "                           Logit Regression Results                           \n",
      "==============================================================================\n",
      "Dep. Variable:           algo_profile   No. Observations:                   52\n",
      "Model:                          Logit   Df Residuals:                       50\n",
      "Method:                           MLE   Df Model:                            1\n",
      "Date:                Sun, 18 Feb 2024   Pseudo R-squ.:                  0.3495\n",
      "Time:                        16:11:52   Log-Likelihood:                -23.447\n",
      "converged:                       True   LL-Null:                       -36.044\n",
      "Covariance Type:            nonrobust   LLR p-value:                 5.188e-07\n",
      "====================================================================================\n",
      "                       coef    std err          z      P>|z|      [0.025      0.975]\n",
      "------------------------------------------------------------------------------------\n",
      "const               -2.5559      0.769     -3.325      0.001      -4.062      -1.049\n",
      "algorithmization     7.6252      1.985      3.841      0.000       3.734      11.516\n",
      "====================================================================================\n"
     ]
    }
   ],
   "source": [
    "# Add a constant term to the independent variable matrix for the logistic regression\n",
    "X_train_sm = sm.add_constant(X_train_sm)\n",
    "\n",
    "# Train the logistic regression model using statsmodels (synthetic data included)\n",
    "logit_model = sm.Logit(y_train_sm, X_train_sm)\n",
    "result = logit_model.fit()\n",
    "\n",
    "# Display logistic regression results\n",
    "print(result.summary())"
   ]
  }
 ],
 "metadata": {
  "kernelspec": {
   "display_name": "Python 3",
   "language": "python",
   "name": "python3"
  },
  "language_info": {
   "codemirror_mode": {
    "name": "ipython",
    "version": 3
   },
   "file_extension": ".py",
   "mimetype": "text/x-python",
   "name": "python",
   "nbconvert_exporter": "python",
   "pygments_lexer": "ipython3",
   "version": "3.8.3"
  }
 },
 "nbformat": 4,
 "nbformat_minor": 4
}
